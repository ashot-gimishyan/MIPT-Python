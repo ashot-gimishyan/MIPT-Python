{
 "cells": [
  {
   "cell_type": "code",
   "execution_count": 3,
   "id": "aa623250",
   "metadata": {},
   "outputs": [],
   "source": [
    "def pascal_triangle():\n",
    "    arr = [1]\n",
    "    while True:\n",
    "        for i in arr:\n",
    "            yield i\n",
    "        arr.append(0)\n",
    "        newarr = [arr[i - 1] + arr[i] for i in range(0, len(arr))]\n",
    "        arr = newarr"
   ]
  },
  {
   "cell_type": "code",
   "execution_count": 6,
   "id": "9b569f25",
   "metadata": {},
   "outputs": [
    {
     "ename": "SyntaxError",
     "evalue": "invalid syntax (3334916194.py, line 1)",
     "output_type": "error",
     "traceback": [
      "\u001b[0;36m  File \u001b[0;32m\"/tmp/ipykernel_5812/3334916194.py\"\u001b[0;36m, line \u001b[0;32m1\u001b[0m\n\u001b[0;31m    type(arr[])\u001b[0m\n\u001b[0m             ^\u001b[0m\n\u001b[0;31mSyntaxError\u001b[0m\u001b[0;31m:\u001b[0m invalid syntax\n"
     ]
    }
   ],
   "source": [
    "type(arr[])"
   ]
  },
  {
   "cell_type": "code",
   "execution_count": 8,
   "id": "c7db0327",
   "metadata": {},
   "outputs": [
    {
     "name": "stdout",
     "output_type": "stream",
     "text": [
      "3\n",
      "3\n",
      "5\n",
      "6\n",
      "7\n",
      "9\n",
      "9\n",
      "11\n",
      "11\n",
      "45\n",
      "123\n"
     ]
    }
   ],
   "source": [
    "import heapq\n",
    "\n",
    "\n",
    "def merge_sorter(*args):\n",
    "    iters = [iter(arg) for arg in args]\n",
    "    values = []\n",
    "    for num in range(len(iters)):\n",
    "        try:\n",
    "            val = next(iters[num])\n",
    "        except StopIteration:\n",
    "            continue\n",
    "        values.append((val, num))\n",
    "    heapq.heapify(values)\n",
    "    while values:\n",
    "        val, num = heapq.heappop(values)\n",
    "        yield val\n",
    "        try:\n",
    "            new_val = next(iters[num])\n",
    "        except StopIteration:\n",
    "            continue\n",
    "        heapq.heappush(values, (new_val, num))\n",
    "\n",
    "\n",
    "def gen():\n",
    "    i = 2\n",
    "    while True:\n",
    "        yield i\n",
    "        i += 1\n",
    "\n",
    "\n",
    "def one():\n",
    "    yield 1\n",
    "\n",
    "\n",
    "for i in merge_sorter(range(3, 10, 2), [3, 6, 9, 11, 11, 45, 123], []):\n",
    "    print(i)"
   ]
  },
  {
   "cell_type": "code",
   "execution_count": null,
   "id": "41e561b4",
   "metadata": {},
   "outputs": [],
   "source": []
  },
  {
   "cell_type": "code",
   "execution_count": 4,
   "id": "89cb6eef",
   "metadata": {},
   "outputs": [
    {
     "ename": "SyntaxError",
     "evalue": "invalid syntax (702544008.py, line 26)",
     "output_type": "error",
     "traceback": [
      "\u001b[0;36m  File \u001b[0;32m\"/tmp/ipykernel_6038/702544008.py\"\u001b[0;36m, line \u001b[0;32m26\u001b[0m\n\u001b[0;31m    print(calculate foo for {}.format(value))\u001b[0m\n\u001b[0m                    ^\u001b[0m\n\u001b[0;31mSyntaxError\u001b[0m\u001b[0;31m:\u001b[0m invalid syntax\n"
     ]
    }
   ],
   "source": [
    "import functools\n",
    "from collections import OrderedDict\n",
    "\n",
    "\n",
    "def cache(size):\n",
    "    def wraps(func):\n",
    "        cached = OrderedDict()\n",
    "        \n",
    "        @functools.wraps(func)\n",
    "        def wrapper(*args, **kwargs):\n",
    "            key = args\n",
    "            for item in kwargs.items():\n",
    "                key += item\n",
    "            if key in cached:\n",
    "                return cached[key]\n",
    "            value = func(*args, **kwargs)\n",
    "            cached[key] = value\n",
    "            if len(cached) > size:\n",
    "                cached.popitem(last=False)\n",
    "            return value\n",
    "        return wrapper\n",
    "    return \n"
   ]
  },
  {
   "cell_type": "code",
   "execution_count": null,
   "id": "15def439",
   "metadata": {},
   "outputs": [],
   "source": []
  },
  {
   "cell_type": "code",
   "execution_count": null,
   "id": "f00fbb2a",
   "metadata": {},
   "outputs": [],
   "source": []
  },
  {
   "cell_type": "code",
   "execution_count": 6,
   "id": "7de15b88",
   "metadata": {},
   "outputs": [
    {
     "name": "stdout",
     "output_type": "stream",
     "text": [
      "calculate foo for 1\n",
      "calculate foo for 2\n",
      "calculate foo for 1\n",
      "calculate foo for 3\n"
     ]
    },
    {
     "data": {
      "text/plain": [
       "1"
      ]
     },
     "execution_count": 6,
     "metadata": {},
     "output_type": "execute_result"
    }
   ],
   "source": [
    "\n",
    "  \n",
    "import functools\n",
    "from collections import OrderedDict\n",
    "\n",
    "\n",
    "def cache(size):\n",
    "    def wraps(func):\n",
    "        cached = OrderedDict()\n",
    "        \n",
    "        @functools.wraps(func)\n",
    "        def wrapper(*args, **kwargs):\n",
    "            key = args\n",
    "            for item in kwargs.items():\n",
    "                key += item\n",
    "            if key in cached:\n",
    "                return cached[key]\n",
    "            value = func(*args, **kwargs)\n",
    "            cached[key] = value\n",
    "            if len(cached) > size:\n",
    "                cached.popitem(last=False)\n",
    "            return value\n",
    "        return wrapper\n",
    "    return wraps\n",
    "\n",
    "\n",
    "@cache(2)\n",
    "def foo(value, **kwargs):\n",
    "    print(\"calculate foo for {}\".format(value))\n",
    "    return value\n",
    "\n",
    "\n",
    "foo(1, a=1)\n",
    "foo(2)\n",
    "foo(1)\n",
    "foo(2)\n",
    "foo(3)\n",
    "foo(1)"
   ]
  },
  {
   "cell_type": "code",
   "execution_count": null,
   "id": "baacf329",
   "metadata": {},
   "outputs": [],
   "source": []
  },
  {
   "cell_type": "code",
   "execution_count": null,
   "id": "c2997222",
   "metadata": {},
   "outputs": [],
   "source": []
  },
  {
   "cell_type": "code",
   "execution_count": null,
   "id": "82b261b9",
   "metadata": {},
   "outputs": [],
   "source": []
  }
 ],
 "metadata": {
  "kernelspec": {
   "display_name": "Python 3 (ipykernel)",
   "language": "python",
   "name": "python3"
  },
  "language_info": {
   "codemirror_mode": {
    "name": "ipython",
    "version": 3
   },
   "file_extension": ".py",
   "mimetype": "text/x-python",
   "name": "python",
   "nbconvert_exporter": "python",
   "pygments_lexer": "ipython3",
   "version": "3.8.10"
  }
 },
 "nbformat": 4,
 "nbformat_minor": 5
}
