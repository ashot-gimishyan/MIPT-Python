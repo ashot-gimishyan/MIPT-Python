{
 "cells": [
  {
   "cell_type": "code",
   "execution_count": 6,
   "id": "4e4c6d7e",
   "metadata": {},
   "outputs": [
    {
     "name": "stdout",
     "output_type": "stream",
     "text": [
      "3\n",
      "   _~_       _~_       _~_    \n",
      "  (o o)     (o o)     (o o)   \n",
      " /  V  \\   /  V  \\   /  V  \\  \n",
      "/(  _  )\\ /(  _  )\\ /(  _  )\\ \n",
      "  ^^ ^^     ^^ ^^     ^^ ^^   \n"
     ]
    }
   ],
   "source": [
    "N = input()\n",
    "N = int(N)\n",
    "\n",
    "parts = []\n",
    "parts.append('   _~_   ')\n",
    "parts.append('  (o o)  ')\n",
    "parts.append(' /  V  \\\\ ')\n",
    "parts.append('/(  _  )\\\\')\n",
    "parts.append('  ^^ ^^  ')\n",
    "\n",
    "for part in parts:\n",
    "    print(N * (part + ' '))"
   ]
  },
  {
   "cell_type": "code",
   "execution_count": null,
   "id": "fb3ed917",
   "metadata": {},
   "outputs": [],
   "source": []
  },
  {
   "cell_type": "code",
   "execution_count": null,
   "id": "b9ea1bb0",
   "metadata": {},
   "outputs": [
    {
     "name": "stdout",
     "output_type": "stream",
     "text": [
      "94dbee096b92f10ab83bbcf88102c6acdc3d76d1\tThu Sep 22 12:39:58 2016 +0100\tThomas Kluyver\ttakowl@gmail.com\tUpdate PEP 517 to use pyproject.toml from PEP 518 (#51)\n",
      "94dbee0..................Update PEP 517 to use pyproject.toml from PEP 518 (#51)\n",
      "0cd8619f18d8ecad1e5d2303f95ed206c2d6f92b\tFri Sep 23 10:59:32 2016 -0700\tBrett Cannon\tbrettcannon@users.noreply.github.com\tUpdate PEP 512 (#107) 94dbee096b92f10ab83bbcf88102c6acdc3d76d1\tThu Sep 22 12:39:58 2016 +0100\tThomas Kluyver\ttakowl@gmail.com\tUpdate PEP 517 to use pyproject.toml from PEP 518 (#51)\n",
      "0cd8619...........Update PEP 512 (#107) 94dbee096b92f10ab83bbcf88102c6acdc3d76d1\n"
     ]
    }
   ],
   "source": [
    "while True:\n",
    "    str_in = input().split('\\t')\n",
    "    length = 73 - len(str_in[4])\n",
    "    str_out = str_in[0][0:7] + length * '.' + str_in[4]\n",
    "    print(str_out)"
   ]
  },
  {
   "cell_type": "code",
   "execution_count": null,
   "id": "20333ccd",
   "metadata": {},
   "outputs": [],
   "source": [
    "while True:\n",
    "    try:\n",
    "    \tstr_in = input().split('\\t')\n",
    "    \tlength = 73 - len(str_in[4])\n",
    "    \tstr_out = str_in[0][0:7] + length * '.' + str_in[4]\n",
    "    \tprint(str_out)\n",
    "    except EOFError:\n",
    "        break"
   ]
  },
  {
   "cell_type": "code",
   "execution_count": 10,
   "id": "2ec7a8a3",
   "metadata": {},
   "outputs": [
    {
     "name": "stdout",
     "output_type": "stream",
     "text": [
      "anna45\n",
      "weak\n"
     ]
    }
   ],
   "source": [
    "from re import search\n",
    "\n",
    "str_in = input()\n",
    "\n",
    "while True:\n",
    "    if len(set(str_in)) < 4:\n",
    "        weak = True\n",
    "        break\n",
    "        \n",
    "    if str_in == str_in.lower() or str_in == str_in.upper():\n",
    "        weak = True\n",
    "        break\n",
    "        \n",
    "    if re.search(r'ANNA', str_in.upper()) is not None:\n",
    "        weak = True\n",
    "        break\n",
    "\n",
    "    if re.search(r'\\d+', str_in) is None:\n",
    "        weak = True\n",
    "        break\n",
    "\n",
    "    weak = False\n",
    "\n",
    "strong = not weak\n",
    "print('weak' * weak + 'strong' * strong)"
   ]
  },
  {
   "cell_type": "code",
   "execution_count": null,
   "id": "ec0ae68c",
   "metadata": {},
   "outputs": [],
   "source": []
  }
 ],
 "metadata": {
  "kernelspec": {
   "display_name": "Python 3 (ipykernel)",
   "language": "python",
   "name": "python3"
  },
  "language_info": {
   "codemirror_mode": {
    "name": "ipython",
    "version": 3
   },
   "file_extension": ".py",
   "mimetype": "text/x-python",
   "name": "python",
   "nbconvert_exporter": "python",
   "pygments_lexer": "ipython3",
   "version": "3.8.10"
  }
 },
 "nbformat": 4,
 "nbformat_minor": 5
}
