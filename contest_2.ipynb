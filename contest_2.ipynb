{
 "cells": [
  {
   "cell_type": "code",
   "execution_count": 13,
   "id": "f9d3e817",
   "metadata": {},
   "outputs": [
    {
     "name": "stdout",
     "output_type": "stream",
     "text": [
      "15\n",
      "1, 2, Fizz, 4, Buzz, Fizz, 7, 8, Fizz, Buzz, 11, Fizz, 13, 14, Fizz Buzz\n"
     ]
    }
   ],
   "source": [
    "n = int(input())\n",
    "ls = []\n",
    "for i in range(1, n+1):\n",
    "    if not i%15:\n",
    "        ls.append(\"Fizz Buzz\")\n",
    "    elif not i%5:\n",
    "        ls.append(\"Buzz\")\n",
    "    elif not i%3:\n",
    "        ls.append(\"Fizz\")\n",
    "    else:\n",
    "        ls.append(i)\n",
    "print(*ls, sep=\", \")"
   ]
  },
  {
   "cell_type": "code",
   "execution_count": 13,
   "id": "3ca94cb5",
   "metadata": {},
   "outputs": [
    {
     "name": "stdout",
     "output_type": "stream",
     "text": [
      "9\n",
      "11\n"
     ]
    }
   ],
   "source": [
    "i = int(input()) # порядковый номер простого числа, которую хотим найти\n",
    "n = 2 # будем перебирать все натуральные числе на простоту\n",
    "count = 0 # количество делителей для каждого цисла в конце цикла тоже обнуляется\n",
    "find_prost = 0 # А сколько простых чисел найдено на данный момент?\n",
    "\n",
    "while True:\n",
    "    # из курса ДМ помним: если до корня из n у n нет делителей, значит оно простое\n",
    "    # выражение int(n**0.5) + 1 говорит о том, что корень тоже нужно включить в проверку\n",
    "    for j in range(2, int(n**0.5) + 1):\n",
    "        if (n % j == 0):\n",
    "            count += 1\n",
    "    if count == 0:\n",
    "        find_prost += 1\n",
    "    if find_prost == i:\n",
    "        break\n",
    "    count = 0\n",
    "    n+= 1\n",
    "    \n",
    "print(n)\n",
    "    \n",
    "    \n",
    "    "
   ]
  },
  {
   "cell_type": "code",
   "execution_count": 1,
   "id": "2a4c9308",
   "metadata": {},
   "outputs": [
    {
     "name": "stdout",
     "output_type": "stream",
     "text": [
      "a a\n"
     ]
    }
   ],
   "source": [
    "str = input()"
   ]
  },
  {
   "cell_type": "code",
   "execution_count": 2,
   "id": "fc931d86",
   "metadata": {},
   "outputs": [
    {
     "data": {
      "text/plain": [
       "'a a'"
      ]
     },
     "execution_count": 2,
     "metadata": {},
     "output_type": "execute_result"
    }
   ],
   "source": [
    "str"
   ]
  },
  {
   "cell_type": "code",
   "execution_count": 3,
   "id": "aa5b6dbc",
   "metadata": {},
   "outputs": [],
   "source": [
    "a = str.split()"
   ]
  },
  {
   "cell_type": "code",
   "execution_count": 4,
   "id": "5b5fbcfc",
   "metadata": {},
   "outputs": [
    {
     "data": {
      "text/plain": [
       "['a', 'a']"
      ]
     },
     "execution_count": 4,
     "metadata": {},
     "output_type": "execute_result"
    }
   ],
   "source": [
    "a"
   ]
  },
  {
   "cell_type": "code",
   "execution_count": 11,
   "id": "0afd15cd",
   "metadata": {},
   "outputs": [
    {
     "name": "stdout",
     "output_type": "stream",
     "text": [
      "10 9\n",
      "11\n"
     ]
    }
   ],
   "source": [
    "input_str = input()\n",
    "ls = input_str.split()\n",
    "decimal = int(ls[0])\n",
    "base = int(ls[1])\n",
    "result = \"\"\n",
    "\n",
    "while decimal:\n",
    "    a = decimal % base\n",
    "    result += str(a)\n",
    "    a = int(a)\n",
    "    decimal //= base\n",
    "print(result[::-1])\n"
   ]
  },
  {
   "cell_type": "code",
   "execution_count": 33,
   "id": "4336b58d",
   "metadata": {},
   "outputs": [
    {
     "name": "stdout",
     "output_type": "stream",
     "text": [
      "2 4\n",
      "1 2 3 4 \n",
      "\n",
      "2 4 6 8 \n",
      "\n"
     ]
    }
   ],
   "source": [
    "input_str = input()\n",
    "ls = input_str.split()\n",
    "N = int(ls[0])\n",
    "M = int(ls[1])\n",
    "\n",
    "for i in range(1, N+1):\n",
    "    for j in range(1, M+1):\n",
    "        print(i*j, end=\" \")\n",
    "    print('\\n')"
   ]
  },
  {
   "cell_type": "code",
   "execution_count": 64,
   "id": "07ed847f",
   "metadata": {},
   "outputs": [
    {
     "name": "stdout",
     "output_type": "stream",
     "text": [
      "223700\n",
      "223700\n"
     ]
    }
   ],
   "source": [
    "X = input()\n",
    "a = [int(i) for i in X]\n",
    "Y = X\n",
    "current_val = int(X)\n",
    "\n",
    "while sum(a[:3]) != sum(a[3:]):\n",
    "    X = int(X)\n",
    "    X += 1\n",
    "    X = str(X)\n",
    "    a = [int(i) for i in X]\n",
    "\n",
    "a = [int(i) for i in Y]\n",
    "while sum(a[:3]) != sum(a[3:]):\n",
    "    Y = int(Y)\n",
    "    Y -= 1\n",
    "    Y = str(Y)\n",
    "    a = [int(i) for i in Y]\n",
    "\n",
    "X = int(X)\n",
    "Y = int(Y)\n",
    "print(X if (X-current_val) < (current_val-Y) else Y)\n",
    "\n"
   ]
  },
  {
   "cell_type": "code",
   "execution_count": null,
   "id": "89c5bd23",
   "metadata": {},
   "outputs": [],
   "source": []
  }
 ],
 "metadata": {
  "kernelspec": {
   "display_name": "Python 3 (ipykernel)",
   "language": "python",
   "name": "python3"
  },
  "language_info": {
   "codemirror_mode": {
    "name": "ipython",
    "version": 3
   },
   "file_extension": ".py",
   "mimetype": "text/x-python",
   "name": "python",
   "nbconvert_exporter": "python",
   "pygments_lexer": "ipython3",
   "version": "3.8.10"
  }
 },
 "nbformat": 4,
 "nbformat_minor": 5
}
