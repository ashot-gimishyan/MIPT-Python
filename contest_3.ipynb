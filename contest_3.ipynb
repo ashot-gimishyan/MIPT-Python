{
 "cells": [
  {
   "cell_type": "code",
   "execution_count": 11,
   "id": "275bca2f",
   "metadata": {},
   "outputs": [
    {
     "name": "stdout",
     "output_type": "stream",
     "text": [
      "test test all the files\n",
      "0.4\n"
     ]
    }
   ],
   "source": [
    "string = input()\n",
    "words_list = list(string.split(' '))\n",
    "words_dict = {}\n",
    "for word in words_ls:\n",
    "    if word in words_dict:\n",
    "        words_dict[word] += 1\n",
    "    else:\n",
    "        words_dict[word] = 1\n",
    "print(max(words_dict.values()) / len(words_list))\n"
   ]
  },
  {
   "cell_type": "code",
   "execution_count": 2,
   "id": "cdf0b299",
   "metadata": {},
   "outputs": [
    {
     "name": "stdout",
     "output_type": "stream",
     "text": [
      "test test all the files\n",
      "0.4\n"
     ]
    }
   ],
   "source": [
    "string = input()\n",
    "words_list = list(string.split(' '))\n",
    "words_dict = {}\n",
    "for word in words_list:\n",
    "    if word in words_dict:\n",
    "        words_dict[word] += 1\n",
    "    else:\n",
    "        words_dict[word] = 1\n",
    "print(max(words_dict.values()) / len(words_list))\n"
   ]
  },
  {
   "cell_type": "code",
   "execution_count": null,
   "id": "cd80deee",
   "metadata": {},
   "outputs": [],
   "source": []
  },
  {
   "cell_type": "code",
   "execution_count": 1,
   "id": "4793c50e",
   "metadata": {},
   "outputs": [
    {
     "name": "stdout",
     "output_type": "stream",
     "text": [
      "bee gees\n"
     ]
    }
   ],
   "source": [
    "string = input()\n",
    "my_ls = list(string)"
   ]
  },
  {
   "cell_type": "code",
   "execution_count": 2,
   "id": "bebe900b",
   "metadata": {},
   "outputs": [
    {
     "data": {
      "text/plain": [
       "['b', 'e', 'e', ' ', 'g', 'e', 'e', 's']"
      ]
     },
     "execution_count": 2,
     "metadata": {},
     "output_type": "execute_result"
    }
   ],
   "source": [
    "my_ls"
   ]
  },
  {
   "cell_type": "code",
   "execution_count": 1,
   "id": "040ad158",
   "metadata": {},
   "outputs": [
    {
     "name": "stdout",
     "output_type": "stream",
     "text": [
      "sadf\n",
      "1\n"
     ]
    }
   ],
   "source": [
    "s=input()\n",
    "s = list(s)\n",
    "b=1\n",
    "m=0\n",
    "for i in range(len(s)-1):\n",
    "    if s[i]==s[i+1]:\n",
    "        b+=1\n",
    "print(b)"
   ]
  },
  {
   "cell_type": "code",
   "execution_count": null,
   "id": "46110d7d",
   "metadata": {},
   "outputs": [
    {
     "name": "stdout",
     "output_type": "stream",
     "text": [
      "eaaeee\n"
     ]
    }
   ],
   "source": [
    "string = input()\n",
    "symbols_ls = list(string)\n",
    "_dict = {}\n",
    "\n",
    "count = 1\n",
    "i = 1\n",
    "\n",
    "while True:\n",
    "    if i == len(symbols_ls):\n",
    "        break\n",
    "    if symbols_ls[i] == symbols_ls[i+1]:\n",
    "        while symbols_ls[i-1] == symbols_ls[i]:\n",
    "            count += 1\n",
    "            i += 1\n",
    "            if i == len(symbols_ls):\n",
    "                break\n",
    "        _dict[string[i:count]] = count\n",
    "    else:\n",
    "        _dict[string[i]] = 1\n",
    "    \n",
    "\n",
    "        \n",
    "        \n",
    "ls_keys = list(_dict.keys())\n",
    "ls_keys.sort()\n",
    "        \n",
    "for i in ls_keys:\n",
    "    print(i, ' ', _dict[i])\n"
   ]
  },
  {
   "cell_type": "code",
   "execution_count": null,
   "id": "25dbd780",
   "metadata": {},
   "outputs": [],
   "source": []
  },
  {
   "cell_type": "code",
   "execution_count": null,
   "id": "6a50bc3e",
   "metadata": {},
   "outputs": [],
   "source": [
    "f_dict"
   ]
  },
  {
   "cell_type": "code",
   "execution_count": 1,
   "id": "17962411",
   "metadata": {},
   "outputs": [
    {
     "name": "stdout",
     "output_type": "stream",
     "text": [
      "1234\n",
      "qwer\n",
      "[('1', 'q'), ('2', 'w'), ('3', 'e'), ('4', 'r')]\n"
     ]
    }
   ],
   "source": [
    "f_str = input()\n",
    "s_str = input()\n",
    "my_dict = dict(zip(f_str, s_str))\n",
    "f_len = len(f_str)\n",
    "s_len = len(s_str)\n",
    "for i in range(0, f_len - s_len):\n",
    "    my_dict[f_str[i + s_len]] = None\n",
    "print(sorted(list(my_dict.items())))\n",
    "\n"
   ]
  },
  {
   "cell_type": "code",
   "execution_count": 1,
   "id": "5cd0eb71",
   "metadata": {},
   "outputs": [
    {
     "name": "stdout",
     "output_type": "stream",
     "text": [
      "abbcccddddeeeee\n",
      "2\n",
      "['cc', 'dd', 'ee']\n"
     ]
    }
   ],
   "source": [
    "from collections import Counter\n",
    "string = input()\n",
    "N = int(input())\n",
    "sub = [string[i:i + N] for i in range(0, len(string) - N + 1)]\n",
    "counted = Counter(sub)\n",
    "print(sorted([sub for (sub, counted) in list(counted.items()) if counted > 1]))"
   ]
  },
  {
   "cell_type": "code",
   "execution_count": null,
   "id": "1e8a4355",
   "metadata": {},
   "outputs": [],
   "source": []
  },
  {
   "cell_type": "code",
   "execution_count": null,
   "id": "bfbc3b67",
   "metadata": {},
   "outputs": [],
   "source": [
    "from collections import Counter\n",
    "string = input()\n",
    "N = int(input())\n",
    "sub = [string[i:i + N] for i in range(0, len(string) - N + 1)]\n",
    "counted = Counter(sub)\n",
    "print(sorted([sub for (sub, counted) in list(counted.items()) if counted > 1]))"
   ]
  },
  {
   "cell_type": "code",
   "execution_count": 1,
   "id": "b9b87870",
   "metadata": {},
   "outputs": [
    {
     "name": "stdout",
     "output_type": "stream",
     "text": [
      "bee geees\n",
      "  1\n",
      "b 1\n",
      "e 3\n",
      "g 1\n",
      "s 1\n"
     ]
    }
   ],
   "source": [
    "a = input()\n",
    "n = 2\n",
    "_dict = {}\n",
    "\n",
    "for i in range(len(a)):\n",
    "    _dict[a[i]] = 1\n",
    "\n",
    "i = 0\n",
    "while i < len(a):\n",
    "    if a[i: i+n] == a[i] * n:\n",
    "        if _dict[a[i]] < n:\n",
    "            _dict[a[i]] = n\n",
    "        n += 1\n",
    "    elif n > 2:\n",
    "        i += n - 1\n",
    "        n = 2\n",
    "    elif n == 2:\n",
    "        i += 1\n",
    "\n",
    "for i in sorted(_dict.items()):\n",
    "    print(i[0], i[1])"
   ]
  },
  {
   "cell_type": "code",
   "execution_count": null,
   "id": "37509b27",
   "metadata": {},
   "outputs": [],
   "source": []
  },
  {
   "cell_type": "code",
   "execution_count": null,
   "id": "1a588a13",
   "metadata": {},
   "outputs": [],
   "source": []
  },
  {
   "cell_type": "code",
   "execution_count": null,
   "id": "0fa9acbd",
   "metadata": {},
   "outputs": [],
   "source": []
  },
  {
   "cell_type": "code",
   "execution_count": null,
   "id": "5644ad05",
   "metadata": {},
   "outputs": [],
   "source": []
  },
  {
   "cell_type": "code",
   "execution_count": null,
   "id": "2fb2fb04",
   "metadata": {},
   "outputs": [],
   "source": []
  },
  {
   "cell_type": "code",
   "execution_count": null,
   "id": "254ea9ee",
   "metadata": {},
   "outputs": [],
   "source": []
  }
 ],
 "metadata": {
  "kernelspec": {
   "display_name": "Python 3 (ipykernel)",
   "language": "python",
   "name": "python3"
  },
  "language_info": {
   "codemirror_mode": {
    "name": "ipython",
    "version": 3
   },
   "file_extension": ".py",
   "mimetype": "text/x-python",
   "name": "python",
   "nbconvert_exporter": "python",
   "pygments_lexer": "ipython3",
   "version": "3.8.10"
  }
 },
 "nbformat": 4,
 "nbformat_minor": 5
}
